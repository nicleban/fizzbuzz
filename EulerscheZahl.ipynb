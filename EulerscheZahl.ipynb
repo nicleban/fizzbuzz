{
 "cells": [
  {
   "cell_type": "code",
   "execution_count": 9,
   "metadata": {},
   "outputs": [
    {
     "name": "stdout",
     "output_type": "stream",
     "text": [
      "2.7182818284590455\n"
     ]
    }
   ],
   "source": [
    "b=1\n",
    "counter=0 \n",
    "check=0\n",
    "a=1\n",
    "s=1000\n",
    "x=1\n",
    "while counter==0:\n",
    "    for i in range(1,a+1):\n",
    "        b=b*i\n",
    "    x=x+1/b\n",
    "    check=check+1\n",
    "    b=1\n",
    "    a=a+1\n",
    "    if check==s:\n",
    "        print (x)\n",
    "        break"
   ]
  },
  {
   "cell_type": "markdown",
   "metadata": {},
   "source": [
    "Zunächst im Code werden alle Variabeln definiert.\n",
    "*b* ist eine zwischen variabel um auf zu multiplizieren.\n",
    "*counter* ist für die schleife, dass sie unendlich lange läuft und mit *break* stoppt\n",
    "*check* ist um zu schauen, dass die Schleife stoppt, sie wird bei jedem Durchgang um 1 erhöht.\n",
    "*a* ist für die Vorschleife damit nicht immer auf die gleiche Zahl multipliziert wird.\n",
    "*s* sagt wie lange die Schleife gehen soll\n",
    "*x* ist ist für die berechnung\n",
    "Danach erstellen wir eine while-Schleife, die Unendlich lange läuft.\n",
    "In der While-Schleife machen wir eine for-Schleife, diese diet dem Auf multiplizieren.\n",
    "    Wir machen in der Range von 1 bis a+1 also a wird immer grösser, wird aufmultipliziert.\n",
    "    in *x=x+1/b* hier wird *x* definiert, also die Zahl, die wir brauchen.\n",
    "    Wir rechnen unsere Zahl *x* plus 1, welche von *b*, der auf multiplizierten Zahl.\n",
    "    Beim nächsten durchlauf passiert genau das gleiche jedoch wir x ein bischen grösser sein.\n",
    "Danach werden wir den durchlauft mit dem *check* deklarieren\n",
    "*b* wird wieder als 1 definiert\n",
    "*a* wir noch erhöht für die aufmultiplizierung"
   ]
  },
  {
   "cell_type": "code",
   "execution_count": 5,
   "metadata": {},
   "outputs": [
    {
     "name": "stdout",
     "output_type": "stream",
     "text": [
      "foo\n",
      "bar\n"
     ]
    }
   ],
   "source": [
    "print('foo')\n",
    "print('bar')\n"
   ]
  }
 ],
 "metadata": {
  "kernelspec": {
   "display_name": "Python 3",
   "language": "python",
   "name": "python3"
  },
  "language_info": {
   "codemirror_mode": {
    "name": "ipython",
    "version": 3
   },
   "file_extension": ".py",
   "mimetype": "text/x-python",
   "name": "python",
   "nbconvert_exporter": "python",
   "pygments_lexer": "ipython3",
   "version": "3.12.1"
  }
 },
 "nbformat": 4,
 "nbformat_minor": 2
}
