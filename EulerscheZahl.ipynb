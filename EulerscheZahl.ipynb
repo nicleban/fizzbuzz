{
 "cells": [
  {
   "cell_type": "code",
   "execution_count": 6,
   "metadata": {},
   "outputs": [
    {
     "name": "stdout",
     "output_type": "stream",
     "text": [
      "2.7182818284590455\n"
     ]
    }
   ],
   "source": [
    "b=1\n",
    "c=1\n",
    "counter=0 \n",
    "check=0\n",
    "x=0\n",
    "a=1\n",
    "s=1000\n",
    "x=1\n",
    "while counter==0:\n",
    "    for i in range(1,a+1):\n",
    "        b=b*i\n",
    "    x=x+1/b\n",
    "    check=check+1\n",
    "    b=1\n",
    "    a=a+1\n",
    "    if check==s:\n",
    "        print (x)\n",
    "        break"
   ]
  },
  {
   "cell_type": "markdown",
   "metadata": {},
   "source": [
    "Hier ist der Code für die Eulerschezahl"
   ]
  },
  {
   "cell_type": "code",
   "execution_count": 5,
   "metadata": {},
   "outputs": [
    {
     "name": "stdout",
     "output_type": "stream",
     "text": [
      "foo\n",
      "bar\n"
     ]
    }
   ],
   "source": [
    "print('foo')\n",
    "print('bar')\n"
   ]
  }
 ],
 "metadata": {
  "kernelspec": {
   "display_name": "Python 3",
   "language": "python",
   "name": "python3"
  },
  "language_info": {
   "codemirror_mode": {
    "name": "ipython",
    "version": 3
   },
   "file_extension": ".py",
   "mimetype": "text/x-python",
   "name": "python",
   "nbconvert_exporter": "python",
   "pygments_lexer": "ipython3",
   "version": "3.12.1"
  }
 },
 "nbformat": 4,
 "nbformat_minor": 2
}
